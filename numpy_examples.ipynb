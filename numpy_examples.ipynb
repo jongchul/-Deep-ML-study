{
 "cells": [
  {
   "cell_type": "markdown",
   "metadata": {},
   "source": [
    "== operator between numpy 1 array and numpy 2d arrray."
   ]
  },
  {
   "cell_type": "code",
   "execution_count": 53,
   "metadata": {
    "collapsed": false
   },
   "outputs": [
    {
     "name": "stdout",
     "output_type": "stream",
     "text": [
      "test_array is: [0 1 2 3 4 5 6 7 8 9]\n",
      "test_label is: [1 4 9 1 0 3 2 5 7 9 2 3 4]\n",
      "test_label is converted to 2d array. [[1]\n",
      " [4]\n",
      " [9]\n",
      " [1]\n",
      " [0]\n",
      " [3]\n",
      " [2]\n",
      " [5]\n",
      " [7]\n",
      " [9]\n",
      " [2]\n",
      " [3]\n",
      " [4]]\n"
     ]
    },
    {
     "data": {
      "text/plain": [
       "array([[False,  True, False, False, False, False, False, False, False,\n",
       "        False],\n",
       "       [False, False, False, False,  True, False, False, False, False,\n",
       "        False],\n",
       "       [False, False, False, False, False, False, False, False, False,\n",
       "         True],\n",
       "       [False,  True, False, False, False, False, False, False, False,\n",
       "        False],\n",
       "       [ True, False, False, False, False, False, False, False, False,\n",
       "        False],\n",
       "       [False, False, False,  True, False, False, False, False, False,\n",
       "        False],\n",
       "       [False, False,  True, False, False, False, False, False, False,\n",
       "        False],\n",
       "       [False, False, False, False, False,  True, False, False, False,\n",
       "        False],\n",
       "       [False, False, False, False, False, False, False,  True, False,\n",
       "        False],\n",
       "       [False, False, False, False, False, False, False, False, False,\n",
       "         True],\n",
       "       [False, False,  True, False, False, False, False, False, False,\n",
       "        False],\n",
       "       [False, False, False,  True, False, False, False, False, False,\n",
       "        False],\n",
       "       [False, False, False, False,  True, False, False, False, False,\n",
       "        False]], dtype=bool)"
      ]
     },
     "execution_count": 53,
     "metadata": {},
     "output_type": "execute_result"
    }
   ],
   "source": [
    "test_array = np.arange(10)\n",
    "test_label = np.array([1, 4, 9, 1, 0, 3, 2, 5, 7, 9,2, 3, 4])\n",
    "\n",
    "print('test_array is: %s' % test_array)\n",
    "print('test_label is: %s' % test_label)\n",
    "print('test_label is converted to 2d array. %s' % test_label[:,None])\n",
    "\n",
    "# == operator between numpy 1 array and numpy 2d arrray.\n",
    "test_array == test_label[:,None]"
   ]
  },
  {
   "cell_type": "markdown",
   "metadata": {},
   "source": [
    "4 dimentional Numpy Array. CNN uses 4 dimentional array as a weight matrix to extract features. \n",
    "You can think that cnn uses 4 dimentional Numpy Array as a tool to make redundunt representations of groups of image pixels."
   ]
  },
  {
   "cell_type": "code",
   "execution_count": 54,
   "metadata": {
    "collapsed": false
   },
   "outputs": [
    {
     "name": "stdout",
     "output_type": "stream",
     "text": [
      "(2, 2, 2, 4)\n"
     ]
    }
   ],
   "source": [
    "import numpy as np\n",
    "\n",
    "y = np.array([\n",
    "                [                             \n",
    "                    [\n",
    "                        [1,1,1,1],\n",
    "                        [1,1,1,1]   \n",
    "                    ],\n",
    "            \n",
    "                    [\n",
    "                        [1,1,1,1],\n",
    "                        [1,1,1,1]   \n",
    "                    ]\n",
    "                ],      \n",
    "                [   [\n",
    "                        [2,2,2,2],\n",
    "                        [2,2,2,2]\n",
    "                                                \n",
    "                    ],    \n",
    "                \n",
    "                     [\n",
    "                        [2,2,2,2],\n",
    "                        [2,2,2,2] \n",
    "                    ]\n",
    "                ]   \n",
    "            ]\n",
    "            )\n",
    "\n",
    "print(y.shape)"
   ]
  }
 ],
 "metadata": {
  "kernelspec": {
   "display_name": "Python 2",
   "language": "python",
   "name": "python2"
  },
  "language_info": {
   "codemirror_mode": {
    "name": "ipython",
    "version": 2
   },
   "file_extension": ".py",
   "mimetype": "text/x-python",
   "name": "python",
   "nbconvert_exporter": "python",
   "pygments_lexer": "ipython2",
   "version": "2.7.6"
  }
 },
 "nbformat": 4,
 "nbformat_minor": 1
}
